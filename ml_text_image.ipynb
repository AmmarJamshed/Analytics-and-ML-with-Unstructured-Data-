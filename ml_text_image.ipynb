{
  "nbformat": 4,
  "nbformat_minor": 0,
  "metadata": {
    "colab": {
      "provenance": [],
      "authorship_tag": "ABX9TyPxlfMHzBTSPeTmR9kMUup4",
      "include_colab_link": true
    },
    "kernelspec": {
      "name": "python3",
      "display_name": "Python 3"
    },
    "language_info": {
      "name": "python"
    }
  },
  "cells": [
    {
      "cell_type": "markdown",
      "metadata": {
        "id": "view-in-github",
        "colab_type": "text"
      },
      "source": [
        "<a href=\"https://colab.research.google.com/github/AmmarJamshed/Analytics-and-ML-with-Unstructured-Data-/blob/main/ml_text_image.ipynb\" target=\"_parent\"><img src=\"https://colab.research.google.com/assets/colab-badge.svg\" alt=\"Open In Colab\"/></a>"
      ]
    },
    {
      "cell_type": "code",
      "execution_count": null,
      "metadata": {
        "id": "r7pkCMjJQ5u_"
      },
      "outputs": [],
      "source": []
    },
    {
      "cell_type": "markdown",
      "source": [
        "#  Introduction to Image and Text Data"
      ],
      "metadata": {
        "id": "SVJtefmIQ6nl"
      }
    },
    {
      "cell_type": "code",
      "source": [
        "from PIL import Image\n",
        "import numpy as np\n",
        "import matplotlib.pyplot as plt\n",
        "\n",
        "# Load an image and convert it to grayscale\n",
        "image = Image.open('path_to_image.jpg').convert('L')\n",
        "image_array = np.array(image)\n",
        "\n",
        "# Display the image and its array representation\n",
        "plt.imshow(image_array, cmap='gray')\n",
        "plt.show()\n",
        "print(image_array)"
      ],
      "metadata": {
        "id": "ryiApcpzQ7kl"
      },
      "execution_count": null,
      "outputs": []
    },
    {
      "cell_type": "markdown",
      "source": [
        "# Image Preprocessing"
      ],
      "metadata": {
        "id": "AZBm-4UGRUtQ"
      }
    },
    {
      "cell_type": "code",
      "source": [
        "import cv2\n",
        "import matplotlib.pyplot as plt\n",
        "\n",
        "# Load an image\n",
        "image = cv2.imread('path_to_image.jpg')\n",
        "\n",
        "# Resize, normalize, and convert to grayscale\n",
        "resized_image = cv2.resize(image, (128, 128))\n",
        "normalized_image = resized_image / 255.0  # Normalize pixel values\n",
        "\n",
        "# Show original and resized image\n",
        "plt.subplot(1, 2, 1)\n",
        "plt.title(\"Original Image\")\n",
        "plt.imshow(cv2.cvtColor(image, cv2.COLOR_BGR2RGB))\n",
        "plt.subplot(1, 2, 2)\n",
        "plt.title(\"Resized & Normalized Image\")\n",
        "plt.imshow(normalized_image)\n",
        "plt.show()\n",
        "\n",
        "import cv2\n",
        "import matplotlib.pyplot as plt\n",
        "\n",
        "# Load an image in grayscale\n",
        "image = cv2.imread('path_to_image.jpg', 0)\n",
        "\n",
        "# Plot histogram of pixel intensities\n",
        "plt.hist(image.ravel(), bins=256, range=[0, 256])\n",
        "plt.title(\"Histogram of Pixel Intensities\")\n",
        "plt.show()\n"
      ],
      "metadata": {
        "id": "On-hwVFtROgL"
      },
      "execution_count": null,
      "outputs": []
    },
    {
      "cell_type": "markdown",
      "source": [
        "# ML Model on Image data"
      ],
      "metadata": {
        "id": "UeTsdAoLR94i"
      }
    },
    {
      "cell_type": "code",
      "source": [
        "import tensorflow as tf\n",
        "from tensorflow.keras import layers, models\n",
        "from tensorflow.keras.datasets import cifar10\n",
        "\n",
        "# Load CIFAR-10 dataset\n",
        "(X_train, y_train), (X_test, y_test) = cifar10.load_data()\n",
        "X_train, X_test = X_train / 255.0, X_test / 255.0  # Normalize pixel values\n",
        "\n",
        "# Define a simple CNN model\n",
        "model = models.Sequential([\n",
        "    layers.Conv2D(32, (3, 3), activation='relu', input_shape=(32, 32, 3)),\n",
        "    layers.MaxPooling2D((2, 2)),\n",
        "    layers.Conv2D(64, (3, 3), activation='relu'),\n",
        "    layers.MaxPooling2D((2, 2)),\n",
        "    layers.Flatten(),\n",
        "    layers.Dense(64, activation='relu'),\n",
        "    layers.Dense(10, activation='softmax')\n",
        "])\n",
        "\n",
        "# Compile and train the model\n",
        "model.compile(optimizer='adam', loss='sparse_categorical_crossentropy', metrics=['accuracy'])\n",
        "model.fit(X_train, y_train, epochs=5, validation_data=(X_test, y_test))\n"
      ],
      "metadata": {
        "id": "maYz-LLPSKoa"
      },
      "execution_count": null,
      "outputs": []
    },
    {
      "cell_type": "markdown",
      "source": [
        "## Analyze Image data"
      ],
      "metadata": {
        "id": "pogwVwzGRcxd"
      }
    },
    {
      "cell_type": "code",
      "source": [
        "import cv2\n",
        "import matplotlib.pyplot as plt\n",
        "\n",
        "# Load an image in grayscale\n",
        "image = cv2.imread('path_to_image.jpg', 0)\n",
        "\n",
        "# Plot histogram of pixel intensities\n",
        "plt.hist(image.ravel(), bins=256, range=[0, 256])\n",
        "plt.title(\"Histogram of Pixel Intensities\")\n",
        "plt.show()\n"
      ],
      "metadata": {
        "id": "j4QWfujuRg03"
      },
      "execution_count": null,
      "outputs": []
    },
    {
      "cell_type": "markdown",
      "source": [
        "# Text Representation"
      ],
      "metadata": {
        "id": "LoigwZvvRCZN"
      }
    },
    {
      "cell_type": "code",
      "source": [
        "from sklearn.feature_extraction.text import CountVectorizer\n",
        "\n",
        "# Sample text data\n",
        "texts = [\"Data science is amazing.\", \"Machine learning is powerful.\", \"Python is great for data analysis.\"]\n",
        "\n",
        "# Convert text to numeric vectors\n",
        "vectorizer = CountVectorizer()\n",
        "X = vectorizer.fit_transform(texts)\n",
        "\n",
        "print(\"Vocabulary:\", vectorizer.get_feature_names_out())\n",
        "print(\"Encoded Text:\\n\", X.toarray())"
      ],
      "metadata": {
        "colab": {
          "base_uri": "https://localhost:8080/"
        },
        "id": "v5KQfg8mRFe0",
        "outputId": "dc72b6a1-1338-4135-b825-77ff4216277c"
      },
      "execution_count": null,
      "outputs": [
        {
          "output_type": "stream",
          "name": "stdout",
          "text": [
            "Vocabulary: ['amazing' 'analysis' 'data' 'for' 'great' 'is' 'learning' 'machine'\n",
            " 'powerful' 'python' 'science']\n",
            "Encoded Text:\n",
            " [[1 0 1 0 0 1 0 0 0 0 1]\n",
            " [0 0 0 0 0 1 1 1 1 0 0]\n",
            " [0 1 1 1 1 1 0 0 0 1 0]]\n"
          ]
        }
      ]
    },
    {
      "cell_type": "markdown",
      "source": [
        "## Analyze text data"
      ],
      "metadata": {
        "id": "Tw0eKPoERLiQ"
      }
    },
    {
      "cell_type": "code",
      "source": [
        "import nltk\n",
        "from nltk.corpus import stopwords\n",
        "from nltk.tokenize import word_tokenize\n",
        "from nltk.stem import WordNetLemmatizer\n",
        "\n",
        "nltk.download('punkt')\n",
        "nltk.download('stopwords')\n",
        "nltk.download('wordnet')\n",
        "\n",
        "text = \"Data science is amazing. Python is great for data analysis!\"\n",
        "\n",
        "# Tokenization\n",
        "tokens = word_tokenize(text.lower())\n",
        "\n",
        "# Removing stop words and lemmatizing\n",
        "lemmatizer = WordNetLemmatizer()\n",
        "cleaned_text = [lemmatizer.lemmatize(word) for word in tokens if word not in stopwords.words('english')]\n",
        "\n",
        "print(\"Original Text:\", text)\n",
        "print(\"Cleaned Text:\", \" \".join(cleaned_text))\n"
      ],
      "metadata": {
        "id": "04iO54toRKQj"
      },
      "execution_count": null,
      "outputs": []
    },
    {
      "cell_type": "markdown",
      "source": [
        "# Visualize text data"
      ],
      "metadata": {
        "id": "fpO8HJTyRx7e"
      }
    },
    {
      "cell_type": "code",
      "source": [
        "from wordcloud import WordCloud\n",
        "import matplotlib.pyplot as plt\n",
        "from collections import Counter\n",
        "\n",
        "# Sample text data\n",
        "texts = [\"Data science is amazing.\", \"Machine learning is powerful.\", \"Python is great for data analysis.\"]\n",
        "\n",
        "# Generate word cloud\n",
        "text = \" \".join(texts)\n",
        "wordcloud = WordCloud(width=800, height=400, background_color='white').generate(text)\n",
        "plt.imshow(wordcloud, interpolation='bilinear')\n",
        "plt.axis(\"off\")\n",
        "plt.show()\n",
        "\n",
        "# Frequency distribution\n",
        "counter = Counter(text.split())\n",
        "print(\"Word Frequencies:\", counter)"
      ],
      "metadata": {
        "id": "nL69tB6ER0R7"
      },
      "execution_count": null,
      "outputs": []
    },
    {
      "cell_type": "markdown",
      "source": [
        "## ML with text data"
      ],
      "metadata": {
        "id": "KERrHuKASWvY"
      }
    },
    {
      "cell_type": "code",
      "source": [
        "from tensorflow.keras.preprocessing.text import Tokenizer\n",
        "from tensorflow.keras.preprocessing.sequence import pad_sequences\n",
        "from tensorflow.keras.models import Sequential\n",
        "from tensorflow.keras.layers import Embedding, LSTM, Dense\n",
        "\n",
        "# Sample text data and labels\n",
        "texts = [\"I love data science\", \"Machine learning is great\", \"Python is amazing\"]\n",
        "labels = [1, 1, 1]  # Dummy labels for binary classification\n",
        "\n",
        "# Tokenize and pad sequences\n",
        "tokenizer = Tokenizer(num_words=100)\n",
        "tokenizer.fit_on_texts(texts)\n",
        "sequences = tokenizer.texts_to_sequences(texts)\n",
        "X = pad_sequences(sequences, maxlen=10)\n",
        "\n",
        "# Define LSTM model\n",
        "model = Sequential([\n",
        "    Embedding(input_dim=100, output_dim=16, input_length=10),\n",
        "    LSTM(32),\n",
        "    Dense(1, activation='sigmoid')\n",
        "])\n",
        "\n",
        "# Compile and train the model\n",
        "model.compile(optimizer='adam', loss='binary_crossentropy', metrics=['accuracy'])\n",
        "model.fit(X, labels, epochs=5)\n"
      ],
      "metadata": {
        "id": "GZ_a0VvQR1mP"
      },
      "execution_count": null,
      "outputs": []
    },
    {
      "cell_type": "markdown",
      "source": [
        "# Integrating with CSV data"
      ],
      "metadata": {
        "id": "vEaTmUM2Sfp0"
      }
    },
    {
      "cell_type": "code",
      "source": [
        "import pandas as pd\n",
        "\n",
        "# Load CSV and image/text data (dummy setup)\n",
        "csv_data = pd.DataFrame({\n",
        "    'id': [1, 2, 3],\n",
        "    'value': [100, 200, 300]\n",
        "})\n",
        "\n",
        "# Assume `image_features` and `text_features` are generated from models\n",
        "image_features = [0.8, 0.6, 0.9]  # Dummy image features\n",
        "text_features = [0.7, 0.4, 0.5]   # Dummy text features\n",
        "\n",
        "# Add image and text features to CSV\n",
        "csv_data['image_features'] = image_features\n",
        "csv_data['text_features'] = text_features\n",
        "\n",
        "print(csv_data)\n"
      ],
      "metadata": {
        "id": "VwKpVZuFSieE"
      },
      "execution_count": null,
      "outputs": []
    }
  ]
}